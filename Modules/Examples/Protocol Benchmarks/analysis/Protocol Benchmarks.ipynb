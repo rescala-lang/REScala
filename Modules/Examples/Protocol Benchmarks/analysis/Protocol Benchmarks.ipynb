{
 "cells": [
  {
   "cell_type": "markdown",
   "id": "f68efc42-4120-44a3-9282-356158c0df44",
   "metadata": {},
   "source": [
    "# Protocol Benchmarks"
   ]
  },
  {
   "cell_type": "code",
   "execution_count": null,
   "id": "51e4134a-d64f-4e94-974a-2d2331faaa1b",
   "metadata": {},
   "outputs": [],
   "source": [
    "import pandas as pd\n",
    "import numpy as np\n",
    "import matplotlib.pyplot as plt\n",
    "import os\n",
    "from functools import *\n",
    "from glob import glob as list_files\n",
    "from pathlib import Path"
   ]
  },
  {
   "cell_type": "code",
   "execution_count": null,
   "id": "7192329f-d59d-47cc-83e7-5ba49aea2f82",
   "metadata": {
    "scrolled": true
   },
   "outputs": [],
   "source": [
    "try:\n",
    "    files = list_files(os.environ['BENCH_RESULTS_DIR'] + '/*/*.csv')\n",
    "except:\n",
    "    files = list_files(\"../bench-results/*/*/*.csv\")\n",
    "dfs = []\n",
    "for file in files:\n",
    "    runId = Path(file).parent.name\n",
    "    system = Path(file).parent.parent.name\n",
    "    df = pd.read_csv(file, delimiter=\";\", dtype={'latency': 'float64', 'send-time': 'float64', 'receive-time': 'float64'})\n",
    "\n",
    "    params = runId.split('-')\n",
    "    \n",
    "    df[\"run_config\"] = f\"{params[0]} {params[1]} {params[2]}\"\n",
    "    df[\"run_id\"] = params[3]\n",
    "    df[\"run\"] = runId\n",
    "    df[\"system\"] = system\n",
    "    df[\"index\"] = pd.Series(range(0, len(df)))\n",
    "    df['receive-time'] = df['receive-time'] - df['send-time'].min()\n",
    "    df['send-time'] = df['send-time'] - df['send-time'].min()\n",
    "    dfs.append(df)\n",
    "\n",
    "df = pd.concat(dfs)\n",
    "df[\"latency\"] = (df[\"latency\"] / 1000)\n",
    "df['send-time'] = df['send-time'] / 1000\n",
    "df['receive-time'] = df['receive-time'] / 1000\n",
    "df[\"unit\"] = \"ms\" # fix unit\n",
    "\n",
    "df"
   ]
  },
  {
   "cell_type": "code",
   "execution_count": null,
   "id": "3f937b89-a8a8-41b5-8df6-2be81920589e",
   "metadata": {},
   "outputs": [],
   "source": [
    "latency_df = df[['system', 'run_config', 'latency', 'index', 'name']] \\\n",
    "    .groupby(['system', 'run_config', 'index', 'name']) \\\n",
    "    .mean().reset_index().set_index('index')"
   ]
  },
  {
   "cell_type": "code",
   "execution_count": null,
   "id": "5be70e31-7836-457d-ae0f-f0e8d92cc99a",
   "metadata": {},
   "outputs": [],
   "source": [
    "fig, ax = plt.subplots(1, 1, figsize=(7,5))\n",
    "\n",
    "def plot_latency(ax, label: str, df: pd.DataFrame, group_size):\n",
    "    grouped_df = df.groupby({x: (x // group_size) * group_size for x in range(len(df))})\n",
    "    mean_latency = grouped_df.mean()\n",
    "    \n",
    "    mean_latency.plot(y='latency', ax=ax, label=label)\n",
    "    \n",
    "\n",
    "\n",
    "for system in latency_df['system'].unique():\n",
    "    print(system)\n",
    "    system_df = latency_df[latency_df['system'] == system]\n",
    "    \n",
    "    for run_config in latency_df['run_config'].unique():\n",
    "        print(run_config)\n",
    "        run_df = system_df[system_df['run_config'] == run_config]\n",
    "            \n",
    "        plot_latency(ax, f\"{system} {run_config.split(' ')[1]}\", run_df[['latency']], 10000)\n",
    "\n",
    "ax.set_xlabel(\"number of queries\")\n",
    "ax.set_ylabel(\"latency [ms]\")\n",
    "\n",
    "# ax.set_ylim([0,None])\n",
    "\n",
    "ax.legend()\n",
    "\n",
    "plt.savefig(fname=\"latency.png\", format=\"png\")\n",
    "plt.savefig(fname=\"latency.pdf\", format=\"pdf\")"
   ]
  },
  {
   "cell_type": "code",
   "execution_count": null,
   "id": "5e99ad3f-78e7-4703-a37a-86a2676ad6a8",
   "metadata": {},
   "outputs": [],
   "source": [
    "df[\"seconds\"] = (df[\"receive-time\"] / 1000).apply(round)"
   ]
  },
  {
   "cell_type": "code",
   "execution_count": null,
   "id": "489a2c74-6929-4188-9e63-b5fd9aecf558",
   "metadata": {},
   "outputs": [],
   "source": [
    "fig, ax = plt.subplots(1, 1, figsize=(7,5))\n",
    "\n",
    "res_data = []\n",
    "\n",
    "for system in df['system'].unique():\n",
    "    sys_df = df[df['system'] == system]\n",
    "    \n",
    "    for run_id in sys_df[\"run_config\"].unique():\n",
    "        filtered_df = sys_df[(sys_df[\"run_config\"] == run_id)]\n",
    "        \n",
    "        throughput = filtered_df.groupby(\"seconds\")[\"name\"].count() / len(sys_df[sys_df['run_config'] == run_id]['run_id'].unique())\n",
    "        throughput.plot(ax=ax, label=f\"{system} {run_id.split(' ')[1]}\")\n",
    "        mean_throughput = throughput.quantile(0.5)\n",
    "        res_data.append([system, run_id.split(\" \")[1], mean_throughput])\n",
    "        print(f\"Mean Throughput for {system} {run_id}: {mean_throughput}\")\n",
    "    \n",
    "        # also_mean_throughput = filtered_df[\"name\"].count() / filtered_df[\"seconds\"].max()\n",
    "        # print(f\"Diff {mean_throughput - also_mean_throughput}\")\n",
    "        \n",
    "        ax.axhline(y=mean_throughput, color=ax.get_lines()[-1].get_color())\n",
    "        # ax.axhline(y=also_mean_throughput, color=ax.get_lines()[-1].get_color())\n",
    "\n",
    "ax.legend()\n",
    "\n",
    "ax.set_xlabel('time [s]')\n",
    "ax.set_ylabel('throughput [ops/s]')\n",
    "\n",
    "plt.savefig(fname=\"throughput.pdf\", format=\"pdf\")"
   ]
  },
  {
   "cell_type": "code",
   "execution_count": null,
   "id": "dd920bb9-b5b8-47f1-8ce0-fc8caa33425c",
   "metadata": {},
   "outputs": [],
   "source": [
    "fig, ax = plt.subplots(1, 1, figsize=(7,5))\n",
    "\n",
    "res_df = pd.DataFrame(data=res_data, columns=['system', 'type', 'throughput'])\n",
    "\n",
    "etcd_df = res_df[res_df.system == 'etcd'][['type', 'throughput']]\n",
    "pb_df = res_df[res_df.system == 'pb'][['type', 'throughput']]\n",
    "\n",
    "pd.DataFrame(data={'type': etcd_df.type, 'etcd': list(etcd_df.throughput), 'pb': list(pb_df.throughput)}).set_index('type').plot.bar(ax=ax)\n",
    "\n",
    "ax.set_ylabel('throughput [ops/s]')\n",
    "ax.set_xlabel('')\n",
    "\n",
    "fig.savefig(fname=\"throughput_comp.pdf\", format=\"pdf\")"
   ]
  },
  {
   "cell_type": "code",
   "execution_count": null,
   "id": "c0dc468c-0f71-4426-99f2-cd3272a395e8",
   "metadata": {},
   "outputs": [],
   "source": [
    "df.groupby(['system', 'run_config', 'run_id'])['send-time'].max() / 1000"
   ]
  },
  {
   "cell_type": "code",
   "execution_count": null,
   "id": "9526da1b-a2f8-4930-a072-7e9297b0decc",
   "metadata": {},
   "outputs": [],
   "source": []
  }
 ],
 "metadata": {
  "kernelspec": {
   "display_name": "Python 3 (ipykernel)",
   "language": "python",
   "name": "python3"
  },
  "language_info": {
   "codemirror_mode": {
    "name": "ipython",
    "version": 3
   },
   "file_extension": ".py",
   "mimetype": "text/x-python",
   "name": "python",
   "nbconvert_exporter": "python",
   "pygments_lexer": "ipython3",
   "version": "3.11.7"
  }
 },
 "nbformat": 4,
 "nbformat_minor": 5
}
