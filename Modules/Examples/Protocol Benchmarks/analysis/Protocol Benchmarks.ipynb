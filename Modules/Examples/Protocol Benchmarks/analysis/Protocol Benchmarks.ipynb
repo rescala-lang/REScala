{
 "cells": [
  {
   "cell_type": "markdown",
   "id": "f68efc42-4120-44a3-9282-356158c0df44",
   "metadata": {},
   "source": [
    "# Protocol Benchmarks"
   ]
  },
  {
   "cell_type": "code",
   "execution_count": null,
   "id": "51e4134a-d64f-4e94-974a-2d2331faaa1b",
   "metadata": {},
   "outputs": [],
   "source": [
    "import pandas as pd\n",
    "import numpy as np\n",
    "import matplotlib.pyplot as plt\n",
    "import os\n",
    "from functools import *\n",
    "from glob import glob as list_files\n",
    "from pathlib import Path\n",
    "import re"
   ]
  },
  {
   "cell_type": "markdown",
   "id": "0a278b17-fb63-4833-acc6-3d65a93fdf88",
   "metadata": {},
   "source": [
    "Formatting Stuff"
   ]
  },
  {
   "cell_type": "code",
   "execution_count": null,
   "id": "b2db0e39-cc8e-4a7d-b849-842ded4c5839",
   "metadata": {},
   "outputs": [],
   "source": [
    "prop_cycle = plt.rcParams['axes.prop_cycle']\n",
    "mptcolors = prop_cycle.by_key()['color']\n",
    "mptcolors[0]\n",
    "colors = {'PRDT read': mptcolors[0], 'PRDT mixed': mptcolors[1], 'PRDT write': mptcolors[2], 'etcd read': mptcolors[3], 'etcd mixed': mptcolors[4], 'etcd write': mptcolors[5]}\n",
    "\n",
    "from itertools import cycle\n",
    "# solid, dotted, dashed, long dash with offsets, dashdotted, dashdotdotted\n",
    "lines = ['solid',\"dotted\", \"dashed\"]\n",
    "linecycler = cycle(lines)\n",
    "linestyle = {'PRDT read': next(linecycler), 'PRDT mixed': next(linecycler), 'PRDT write': next(linecycler), 'etcd read':next(linecycler), 'etcd mixed': next(linecycler), 'etcd write': next(linecycler)}\n",
    "#mylabels = {'etcd client1 cluster3 mixed 20_120': 'ARDT read', 'ARDT mixed': 'ARDT mixed', 'ARDT put': 'ARDT write', 'etcd get': 'etcd read', 'etcd mixed': 'etcd mixed', 'etcd put': 'etcd write'}"
   ]
  },
  {
   "cell_type": "code",
   "execution_count": null,
   "id": "84a05ad0-274b-4e4b-b8eb-ac02e333b054",
   "metadata": {},
   "outputs": [],
   "source": [
    "def load_results(path):\n",
    "    files = list_files(path)\n",
    "    dfs = []\n",
    "    for file in files:\n",
    "        runId = Path(file).name\n",
    "        system = Path(file).parent.parent.name\n",
    "        df = pd.read_csv(file, delimiter=\";\", dtype={'latency': 'float64', 'send-time': 'float64', 'receive-time': 'float64'})\n",
    "    \n",
    "        params = runId.split('-')\n",
    "        \n",
    "        df[\"run_config\"] = f\"{params[0]} {params[1]} {params[2]} {params[3]}\"\n",
    "        try:\n",
    "            df[\"num-clients\"] = re.match(\"client(_?)([0-9])\", params[0])[2]\n",
    "        except:\n",
    "            df[\"num-clients\"] = \"undefined\"\n",
    "        try:\n",
    "            df[\"num-nodes\"] = re.match(\"cluster(_?)([0-9])\", params[1])[2]\n",
    "        except:\n",
    "            df[\"num-nodes\"] = \"undefined\"\n",
    "        df[\"mode\"] = params[2]\n",
    "        df[\"run_id\"] = re.match(\"(.*)\\\\.csv\", params[4])[1]\n",
    "        df[\"run\"] = runId\n",
    "        df[\"system\"] = system\n",
    "        df[\"index\"] = pd.Series(range(0, len(df)))\n",
    "        df['receive-time'] = df['receive-time'] - df['send-time'].min()\n",
    "        df['send-time'] = df['send-time'] - df['send-time'].min()\n",
    "        dfs.append(df)\n",
    "    \n",
    "    df = pd.concat(dfs)\n",
    "    df[\"latency\"] = (df[\"latency\"] / 1000)\n",
    "    df['send-time'] = df['send-time'] / 1000\n",
    "    df['receive-time'] = df['receive-time'] / 1000\n",
    "    df[\"unit\"] = \"ms\" # fix unit\n",
    "    \n",
    "    return df    "
   ]
  },
  {
   "cell_type": "code",
   "execution_count": null,
   "id": "e86273d2-92c8-4e1e-9026-5863c9afe9ce",
   "metadata": {},
   "outputs": [],
   "source": [
    "df = load_results(\"../oopsla-dist-results-hel/*/*/*.csv\")\n",
    "df"
   ]
  },
  {
   "cell_type": "code",
   "execution_count": null,
   "id": "966829a9-6cdc-4b14-962a-fec72b21a94c",
   "metadata": {},
   "outputs": [],
   "source": [
    "# fix dataframe\n",
    "df.loc[df['name'] == 'client_1', 'name'] = 'client1'\n",
    "df.loc[df['run_config'] == 'client_1 cluster3 write 20_120', 'run_config'] = 'write'\n",
    "df.loc[df['run_config'] == 'client_1 cluster3 mixed 20_120', 'run_config'] = 'mixed'\n",
    "df.loc[df['run_config'] == 'client_1 cluster3 read 20_120', 'run_config'] = 'read'\n",
    "df.loc[df['run_config'] == 'client1 cluster3 write 20_120', 'run_config'] = 'write'\n",
    "df.loc[df['run_config'] == 'client1 cluster3 mixed 20_120', 'run_config'] = 'mixed'\n",
    "df.loc[df['run_config'] == 'client1 cluster3 read 20_120', 'run_config'] = 'read'\n",
    "df.loc[df['run_config'] == 'client_1 cluster3 write 0_240', 'run_config'] = 'write'\n",
    "df.loc[df['run_config'] == 'client_1 cluster3 mixed 0_240', 'run_config'] = 'mixed'\n",
    "df.loc[df['run_config'] == 'client_1 cluster3 read 0_240', 'run_config'] = 'read'\n",
    "df.loc[df['run_config'] == 'client1 cluster3 write 0_240', 'run_config'] = 'write'\n",
    "df.loc[df['run_config'] == 'client1 cluster3 mixed 0_240', 'run_config'] = 'mixed'\n",
    "df.loc[df['run_config'] == 'client1 cluster3 read 0_240', 'run_config'] = 'read'\n",
    "\n",
    "df.loc[df['system'] == 'pb', 'system'] = 'PRDT'\n",
    "df"
   ]
  },
  {
   "cell_type": "markdown",
   "id": "f7cbab3e-863f-44fb-9044-e48c927ba015",
   "metadata": {},
   "source": [
    "## Latency Plotting"
   ]
  },
  {
   "cell_type": "code",
   "execution_count": null,
   "id": "3f937b89-a8a8-41b5-8df6-2be81920589e",
   "metadata": {},
   "outputs": [],
   "source": [
    "latency_df = df[['system', 'mode', 'latency', 'index', 'name']] \\\n",
    "    .groupby(['system', 'mode', 'index', 'name']) \\\n",
    "    .mean().reset_index().set_index('index')"
   ]
  },
  {
   "cell_type": "code",
   "execution_count": null,
   "id": "967e6a74-b54a-42d0-a0da-3591e36aae94",
   "metadata": {},
   "outputs": [],
   "source": [
    "#latency_df['latency'] = latency_df['latency'] / 130\n",
    "latency_df"
   ]
  },
  {
   "cell_type": "code",
   "execution_count": null,
   "id": "5be70e31-7836-457d-ae0f-f0e8d92cc99a",
   "metadata": {},
   "outputs": [],
   "source": [
    "fig, ax = plt.subplots(1, 1, figsize=(7,5))\n",
    "\n",
    "def plot_latency(ax, label: str, df: pd.DataFrame, group_size):\n",
    "    grouped_df = df.groupby({x: (x // group_size) * group_size for x in range(len(df))})\n",
    "    mean_latency = grouped_df.mean()\n",
    "    mean_latency.plot(y='latency', ax=ax, label=label, color=colors.get(label, 'pink'), linestyle=linestyle.get(label))\n",
    "    \n",
    "\n",
    "\n",
    "for system in latency_df['system'].unique():\n",
    "    print(system)\n",
    "    system_df = latency_df[latency_df['system'] == system]\n",
    "    \n",
    "    for mode in latency_df['mode'].unique():\n",
    "        print(mode)\n",
    "        run_df = system_df[system_df['mode'] == mode]\n",
    "        plot_latency(ax, f\"{system} {mode}\", run_df[['latency']], 10)\n",
    "\n",
    "ax.set_xlabel(\"number of queries\")\n",
    "ax.set_ylabel(\"latency [ms]\")\n",
    "\n",
    "ax.set_ylim([0, 136])\n",
    "\n",
    "#order = [3,4,5,2,1,0]\n",
    "#ax.legend([handles[idx] for idx in order],[labels[idx] for idx in order])\n",
    "ax.legend()\n",
    "\n",
    "plt.savefig(fname=\"latency.png\", format=\"png\")\n",
    "plt.savefig(fname=\"latency.pdf\", format=\"pdf\")"
   ]
  },
  {
   "cell_type": "code",
   "execution_count": null,
   "id": "070fb68c-f962-4cce-8be7-576a98ac7a5a",
   "metadata": {},
   "outputs": [],
   "source": [
    "for system in latency_df[\"system\"].unique():\n",
    "    system_df = latency_df[latency_df.system == system]\n",
    "    for mode in sys_df[\"mode\"].unique():\n",
    "            filtered_df = sys_df[(sys_df[\"mode\"] == mode)]\n",
    "            mean_latency = filtered_df[\"latency\"].quantile(0.5)\n",
    "            print(f\"mean latency for {system} {mode}: {mean_latency}\")"
   ]
  },
  {
   "cell_type": "markdown",
   "id": "99b21eeb-808a-452f-9f0e-913cd7423127",
   "metadata": {},
   "source": [
    "## Throughput Plotting"
   ]
  },
  {
   "cell_type": "code",
   "execution_count": null,
   "id": "5e99ad3f-78e7-4703-a37a-86a2676ad6a8",
   "metadata": {},
   "outputs": [],
   "source": [
    "df[\"seconds\"] = (df[\"receive-time\"] / 1000).apply(round)"
   ]
  },
  {
   "cell_type": "code",
   "execution_count": null,
   "id": "489a2c74-6929-4188-9e63-b5fd9aecf558",
   "metadata": {},
   "outputs": [],
   "source": [
    "fig, ax = plt.subplots(1, 1, figsize=(7,5))\n",
    "\n",
    "res_data = []\n",
    "\n",
    "for system in df['system'].unique():\n",
    "    sys_df = df[df['system'] == system]\n",
    "    \n",
    "    for run_config in sys_df[\"run_config\"].unique():\n",
    "        filtered_df = sys_df[(sys_df[\"run_config\"] == run_config)]\n",
    "        \n",
    "        throughput = filtered_df.groupby(\"seconds\")[\"name\"].count() / len(sys_df[sys_df['run_config'] == run_config]['run_id'].unique())\n",
    "        throughput.plot(ax=ax, label=f\"{system} {run_config}\")\n",
    "        mean_throughput = throughput.quantile(0.5)\n",
    "        res_data.append([system, run_config, mean_throughput])\n",
    "        print(f\"Mean Throughput for {system} {run_config}: {mean_throughput}\")\n",
    "    \n",
    "        # also_mean_throughput = filtered_df[\"name\"].count() / filtered_df[\"seconds\"].max()\n",
    "        # print(f\"Diff {mean_throughput - also_mean_throughput}\")\n",
    "        \n",
    "        ax.axhline(y=mean_throughput, color=ax.get_lines()[-1].get_color())\n",
    "        # ax.axhline(y=also_mean_throughput, color=ax.get_lines()[-1].get_color())\n",
    "\n",
    "ax.legend()\n",
    "ax.set_ylim(ymin=0)\n",
    "\n",
    "ax.set_xlabel('time [s]')\n",
    "ax.set_ylabel('throughput [ops/s]')\n",
    "\n",
    "plt.savefig(fname=\"throughput.pdf\", format=\"pdf\")\n",
    "plt.savefig(fname=\"throughput.png\", format=\"png\")"
   ]
  },
  {
   "cell_type": "code",
   "execution_count": null,
   "id": "d6b0c763-0b6a-4cf6-ad07-1dd01e00e0cc",
   "metadata": {},
   "outputs": [],
   "source": [
    "fig, ax = plt.subplots(1, 1, figsize=(7,5))\n",
    "\n",
    "res_data = []\n",
    "\n",
    "for system in df['system'].unique():\n",
    "    sys_df = df[df['system'] == system]\n",
    "    \n",
    "    for mode in sys_df[\"mode\"].unique():\n",
    "        filtered_df = sys_df[(sys_df[\"mode\"] == mode)]\n",
    "        \n",
    "        throughput = filtered_df.groupby(\"seconds\")[\"name\"].count() / len(sys_df[sys_df['mode'] == mode]['run_id'].unique())\n",
    "        label = f\"{system} {mode}\"\n",
    "        throughput.plot(ax=ax, label=label, color=colors.get(label, 'pink'), linestyle=linestyle.get(label))\n",
    "        mean_throughput = throughput.quantile(0.5)\n",
    "        res_data.append([system, mode, mean_throughput])\n",
    "        print(f\"Mean Throughput for {system} {mode}: {mean_throughput}\")\n",
    "    \n",
    "        # also_mean_throughput = filtered_df[\"name\"].count() / filtered_df[\"seconds\"].max()\n",
    "        # print(f\"Diff {mean_throughput - also_mean_throughput}\")\n",
    "        \n",
    "        #ax.axhline(y=mean_throughput, color=ax.get_lines()[-1].get_color())\n",
    "        # ax.axhline(y=also_mean_throughput, color=ax.get_lines()[-1].get_color())\n",
    "\n",
    "ax.legend()\n",
    "ax.set_ylim(ymin=0)\n",
    "\n",
    "ax.set_xlabel('time [s]')\n",
    "ax.set_ylabel('throughput [ops/s]')\n",
    "\n",
    "plt.savefig(fname=\"throughput.pdf\", format=\"pdf\")\n",
    "plt.savefig(fname=\"throughput.png\", format=\"png\")"
   ]
  },
  {
   "cell_type": "code",
   "execution_count": null,
   "id": "dd920bb9-b5b8-47f1-8ce0-fc8caa33425c",
   "metadata": {},
   "outputs": [],
   "source": [
    "fig, ax = plt.subplots(1, 1, figsize=(7,5))\n",
    "\n",
    "res_df = pd.DataFrame(data=res_data, columns=['system', 'type', 'throughput'])\n",
    "\n",
    "etcd_df = res_df[res_df.system == 'etcd'][['type', 'throughput']]\n",
    "pb_df = res_df[res_df.system == 'PRDT'][['type', 'throughput']]\n",
    "\n",
    "pd.DataFrame(data={'type': etcd_df.type, 'etcd': list(etcd_df.throughput), 'prdt': list(pb_df.throughput)}).set_index('type').plot.bar(ax=ax)\n",
    "\n",
    "ax.set_ylabel('throughput [ops/s]')\n",
    "ax.set_xlabel('')\n",
    "\n",
    "# fig.savefig(fname=\"throughput_comp.pdf\", format=\"pdf\")"
   ]
  },
  {
   "cell_type": "code",
   "execution_count": null,
   "id": "c0dc468c-0f71-4426-99f2-cd3272a395e8",
   "metadata": {},
   "outputs": [],
   "source": [
    "df.groupby(['system', 'run_config', 'run_id'])['send-time'].max() / 1000"
   ]
  },
  {
   "cell_type": "code",
   "execution_count": null,
   "id": "9526da1b-a2f8-4930-a072-7e9297b0decc",
   "metadata": {},
   "outputs": [],
   "source": []
  }
 ],
 "metadata": {
  "kernelspec": {
   "display_name": "Python 3 (ipykernel)",
   "language": "python",
   "name": "python3"
  },
  "language_info": {
   "codemirror_mode": {
    "name": "ipython",
    "version": 3
   },
   "file_extension": ".py",
   "mimetype": "text/x-python",
   "name": "python",
   "nbconvert_exporter": "python",
   "pygments_lexer": "ipython3",
   "version": "3.13.2"
  }
 },
 "nbformat": 4,
 "nbformat_minor": 5
}
