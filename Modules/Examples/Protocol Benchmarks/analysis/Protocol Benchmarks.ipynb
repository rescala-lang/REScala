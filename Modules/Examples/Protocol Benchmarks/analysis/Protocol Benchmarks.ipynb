{
 "cells": [
  {
   "cell_type": "markdown",
   "id": "f68efc42-4120-44a3-9282-356158c0df44",
   "metadata": {},
   "source": [
    "# Protocol Benchmarks"
   ]
  },
  {
   "cell_type": "code",
   "execution_count": null,
   "id": "51e4134a-d64f-4e94-974a-2d2331faaa1b",
   "metadata": {},
   "outputs": [],
   "source": [
    "import pandas as pd\n",
    "import matplotlib.pyplot as plt\n",
    "import os\n",
    "from functools import *\n",
    "from glob import glob as list_files\n",
    "from pathlib import Path"
   ]
  },
  {
   "cell_type": "code",
   "execution_count": null,
   "id": "7192329f-d59d-47cc-83e7-5ba49aea2f82",
   "metadata": {
    "scrolled": true
   },
   "outputs": [],
   "source": [
    "try:\n",
    "    files = list_files(os.environ['BENCH_RESULTS_DIR'] + '/*/*.csv')\n",
    "except:\n",
    "    files = list_files(\"../bench-results/*/*.csv\")\n",
    "dfs = []\n",
    "for file in files:\n",
    "    global parent\n",
    "    parent = Path(file).parent.name\n",
    "    df = pd.read_csv(file, delimiter=\";\")\n",
    "    df[\"runId\"] = parent\n",
    "    dfs.append(df)\n",
    "\n",
    "df = pd.concat(dfs)\n",
    "df[\"latency\"] = df[\"latency\"] / 1000\n",
    "df[\"unit\"] = \"ms\" # fix unit\n",
    "\n",
    "\n",
    "for runId in df[\"runId\"].unique():\n",
    "    start_time = df[(df[\"runId\"] == runId)][\"send-time\"].min()\n",
    "    \n",
    "    df.loc[df[\"runId\"] == runId, \"send-time\"] = (df.loc[df[\"runId\"] == runId, \"send-time\"] - start_time) / 1000\n",
    "    df.loc[df[\"runId\"] == runId, \"receive-time\"] = (df.loc[df[\"runId\"] == runId, \"receive-time\"] - start_time) / 1000\n",
    "\n",
    "df"
   ]
  },
  {
   "cell_type": "code",
   "execution_count": null,
   "id": "5be70e31-7836-457d-ae0f-f0e8d92cc99a",
   "metadata": {},
   "outputs": [],
   "source": [
    "fig, ax = plt.subplots(1, 1, figsize=(7,5))\n",
    "\n",
    "for runId in df[\"runId\"].unique():\n",
    "    for name in df[(df[\"runId\"] == runId)][\"name\"].unique():\n",
    "        grouped = df[(df[\"runId\"] == runId) & (df[\"name\"] == name)].groupby({x: x // 10000 for x in range(len(df))})[\"latency\"].mean().plot(ax=ax, label=f\"{runId} {name}\")\n",
    "    \n",
    "ax.set_xlabel(\"number of queries in groups of 10000\")\n",
    "ax.set_ylabel(\"latency [ms]\")\n",
    "\n",
    "ax.legend()\n",
    "\n",
    "plt.savefig(fname=\"latency.png\", format=\"png\")"
   ]
  },
  {
   "cell_type": "code",
   "execution_count": null,
   "id": "489a2c74-6929-4188-9e63-b5fd9aecf558",
   "metadata": {},
   "outputs": [],
   "source": [
    "df[\"seconds\"] = (df[\"receive-time\"] / 1000).apply(round)\n",
    "\n",
    "fig, ax = plt.subplots(1, 1, figsize=(7,5))\n",
    "\n",
    "for runId in df[\"runId\"].unique():\n",
    "    filtered_df = df[(df[\"runId\"] == runId)]\n",
    "    \n",
    "    throughput = filtered_df.groupby(\"seconds\")[\"name\"].count()\n",
    "    throughput.plot(ax=ax, label=runId)\n",
    "    mean_throughput = throughput.quantile(0.5)\n",
    "    # print(f\"Mean Throughput for {runId}: {mean_throughput}\")\n",
    "\n",
    "    # also_mean_throughput = filtered_df[\"name\"].count() / filtered_df[\"seconds\"].max()\n",
    "    # print(f\"Diff {mean_throughput - also_mean_throughput}\")\n",
    "    \n",
    "    ax.axhline(y=mean_throughput, color=ax.get_lines()[-1].get_color())\n",
    "    # ax.axhline(y=also_mean_throughput, color=ax.get_lines()[-1].get_color())\n",
    "\n",
    "ax.legend()\n",
    "\n",
    "plt.savefig(fname=\"throughput.png\", format=\"png\")"
   ]
  },
  {
   "cell_type": "code",
   "execution_count": null,
   "id": "c0dc468c-0f71-4426-99f2-cd3272a395e8",
   "metadata": {},
   "outputs": [],
   "source": []
  }
 ],
 "metadata": {
  "kernelspec": {
   "display_name": "Python 3 (ipykernel)",
   "language": "python",
   "name": "python3"
  },
  "language_info": {
   "codemirror_mode": {
    "name": "ipython",
    "version": 3
   },
   "file_extension": ".py",
   "mimetype": "text/x-python",
   "name": "python",
   "nbconvert_exporter": "python",
   "pygments_lexer": "ipython3",
   "version": "3.11.7"
  }
 },
 "nbformat": 4,
 "nbformat_minor": 5
}
